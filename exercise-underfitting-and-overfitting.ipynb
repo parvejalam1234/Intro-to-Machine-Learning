{
 "cells": [
  {
   "cell_type": "markdown",
   "id": "ff8bdc3c",
   "metadata": {
    "papermill": {
     "duration": 0.004899,
     "end_time": "2024-06-21T02:36:54.144039",
     "exception": false,
     "start_time": "2024-06-21T02:36:54.139140",
     "status": "completed"
    },
    "tags": []
   },
   "source": [
    "**This notebook is an exercise in the [Introduction to Machine Learning](https://www.kaggle.com/learn/intro-to-machine-learning) course.  You can reference the tutorial at [this link](https://www.kaggle.com/dansbecker/underfitting-and-overfitting).**\n",
    "\n",
    "---\n"
   ]
  },
  {
   "cell_type": "markdown",
   "id": "51f2e329",
   "metadata": {
    "papermill": {
     "duration": 0.003303,
     "end_time": "2024-06-21T02:36:54.151360",
     "exception": false,
     "start_time": "2024-06-21T02:36:54.148057",
     "status": "completed"
    },
    "tags": []
   },
   "source": [
    "## Recap\n",
    "You've built your first model, and now it's time to optimize the size of the tree to make better predictions. Run this cell to set up your coding environment where the previous step left off."
   ]
  },
  {
   "cell_type": "code",
   "execution_count": 1,
   "id": "26838d3f",
   "metadata": {
    "execution": {
     "iopub.execute_input": "2024-06-21T02:36:54.160011Z",
     "iopub.status.busy": "2024-06-21T02:36:54.159612Z",
     "iopub.status.idle": "2024-06-21T02:36:56.471448Z",
     "shell.execute_reply": "2024-06-21T02:36:56.470264Z"
    },
    "papermill": {
     "duration": 2.319109,
     "end_time": "2024-06-21T02:36:56.473851",
     "exception": false,
     "start_time": "2024-06-21T02:36:54.154742",
     "status": "completed"
    },
    "tags": []
   },
   "outputs": [
    {
     "name": "stdout",
     "output_type": "stream",
     "text": [
      "Validation MAE: 29,653\n",
      "\n",
      "Setup complete\n"
     ]
    }
   ],
   "source": [
    "# Code you have previously used to load data\n",
    "import pandas as pd\n",
    "from sklearn.metrics import mean_absolute_error\n",
    "from sklearn.model_selection import train_test_split\n",
    "from sklearn.tree import DecisionTreeRegressor\n",
    "\n",
    "\n",
    "# Path of the file to read\n",
    "iowa_file_path = '../input/home-data-for-ml-course/train.csv'\n",
    "\n",
    "home_data = pd.read_csv(iowa_file_path)\n",
    "# Create target object and call it y\n",
    "y = home_data.SalePrice\n",
    "# Create X\n",
    "features = ['LotArea', 'YearBuilt', '1stFlrSF', '2ndFlrSF', 'FullBath', 'BedroomAbvGr', 'TotRmsAbvGrd']\n",
    "X = home_data[features]\n",
    "\n",
    "# Split into validation and training data\n",
    "train_X, val_X, train_y, val_y = train_test_split(X, y, random_state=1)\n",
    "\n",
    "# Specify Model\n",
    "iowa_model = DecisionTreeRegressor(random_state=1)\n",
    "# Fit Model\n",
    "iowa_model.fit(train_X, train_y)\n",
    "\n",
    "# Make validation predictions and calculate mean absolute error\n",
    "val_predictions = iowa_model.predict(val_X)\n",
    "val_mae = mean_absolute_error(val_predictions, val_y)\n",
    "print(\"Validation MAE: {:,.0f}\".format(val_mae))\n",
    "\n",
    "# Set up code checking\n",
    "from learntools.core import binder\n",
    "binder.bind(globals())\n",
    "from learntools.machine_learning.ex5 import *\n",
    "print(\"\\nSetup complete\")"
   ]
  },
  {
   "cell_type": "markdown",
   "id": "986dd064",
   "metadata": {
    "papermill": {
     "duration": 0.003246,
     "end_time": "2024-06-21T02:36:56.480894",
     "exception": false,
     "start_time": "2024-06-21T02:36:56.477648",
     "status": "completed"
    },
    "tags": []
   },
   "source": [
    "# Exercises\n",
    "You could write the function `get_mae` yourself. For now, we'll supply it. This is the same function you read about in the previous lesson. Just run the cell below."
   ]
  },
  {
   "cell_type": "code",
   "execution_count": 2,
   "id": "7e099211",
   "metadata": {
    "execution": {
     "iopub.execute_input": "2024-06-21T02:36:56.489987Z",
     "iopub.status.busy": "2024-06-21T02:36:56.489009Z",
     "iopub.status.idle": "2024-06-21T02:36:56.494828Z",
     "shell.execute_reply": "2024-06-21T02:36:56.493682Z"
    },
    "papermill": {
     "duration": 0.012613,
     "end_time": "2024-06-21T02:36:56.496933",
     "exception": false,
     "start_time": "2024-06-21T02:36:56.484320",
     "status": "completed"
    },
    "tags": []
   },
   "outputs": [],
   "source": [
    "def get_mae(max_leaf_nodes, train_X, val_X, train_y, val_y):\n",
    "    model = DecisionTreeRegressor(max_leaf_nodes=max_leaf_nodes, random_state=0)\n",
    "    model.fit(train_X, train_y)\n",
    "    preds_val = model.predict(val_X)\n",
    "    mae = mean_absolute_error(val_y, preds_val)\n",
    "    return(mae)"
   ]
  },
  {
   "cell_type": "markdown",
   "id": "0e68402c",
   "metadata": {
    "papermill": {
     "duration": 0.003244,
     "end_time": "2024-06-21T02:36:56.503781",
     "exception": false,
     "start_time": "2024-06-21T02:36:56.500537",
     "status": "completed"
    },
    "tags": []
   },
   "source": [
    "## Step 1: Compare Different Tree Sizes\n",
    "Write a loop that tries the following values for *max_leaf_nodes* from a set of possible values.\n",
    "\n",
    "Call the *get_mae* function on each value of max_leaf_nodes. Store the output in some way that allows you to select the value of `max_leaf_nodes` that gives the most accurate model on your data."
   ]
  },
  {
   "cell_type": "code",
   "execution_count": 3,
   "id": "4c7148e7",
   "metadata": {
    "execution": {
     "iopub.execute_input": "2024-06-21T02:36:56.512462Z",
     "iopub.status.busy": "2024-06-21T02:36:56.511794Z",
     "iopub.status.idle": "2024-06-21T02:36:56.636151Z",
     "shell.execute_reply": "2024-06-21T02:36:56.635013Z"
    },
    "papermill": {
     "duration": 0.13121,
     "end_time": "2024-06-21T02:36:56.638424",
     "exception": false,
     "start_time": "2024-06-21T02:36:56.507214",
     "status": "completed"
    },
    "tags": []
   },
   "outputs": [
    {
     "data": {
      "application/javascript": [
       "parent.postMessage({\"jupyterEvent\": \"custom.exercise_interaction\", \"data\": {\"outcomeType\": 1, \"valueTowardsCompletion\": 0.5, \"interactionType\": 1, \"questionType\": 1, \"questionId\": \"1_BestTreeSize\", \"learnToolsVersion\": \"0.3.4\", \"failureMessage\": \"\", \"exceptionClass\": \"\", \"trace\": \"\"}}, \"*\")"
      ],
      "text/plain": [
       "<IPython.core.display.Javascript object>"
      ]
     },
     "metadata": {},
     "output_type": "display_data"
    },
    {
     "data": {
      "text/markdown": [
       "<span style=\"color:#33cc33\">Correct</span>"
      ],
      "text/plain": [
       "Correct"
      ]
     },
     "metadata": {},
     "output_type": "display_data"
    }
   ],
   "source": [
    "candidate_max_leaf_nodes = [5, 25, 50, 100, 250, 500]\n",
    "# Write loop to find the ideal tree size from candidate_max_leaf_nodes\n",
    "scores = {}\n",
    "for leaf_size in candidate_max_leaf_nodes:\n",
    "    scores[leaf_size] = get_mae(leaf_size, train_X, val_X, train_y, val_y)\n",
    "\n",
    "# Store the best value of max_leaf_nodes (it will be either 5, 25, 50, 100, 250 or 500)\n",
    "best_tree_size = min(scores, key=scores.get)\n",
    "\n",
    "# Check your answer\n",
    "step_1.check()"
   ]
  },
  {
   "cell_type": "code",
   "execution_count": 4,
   "id": "184ec2c7",
   "metadata": {
    "execution": {
     "iopub.execute_input": "2024-06-21T02:36:56.648088Z",
     "iopub.status.busy": "2024-06-21T02:36:56.647390Z",
     "iopub.status.idle": "2024-06-21T02:36:56.651852Z",
     "shell.execute_reply": "2024-06-21T02:36:56.650875Z"
    },
    "papermill": {
     "duration": 0.01148,
     "end_time": "2024-06-21T02:36:56.653934",
     "exception": false,
     "start_time": "2024-06-21T02:36:56.642454",
     "status": "completed"
    },
    "tags": []
   },
   "outputs": [],
   "source": [
    "# The lines below will show you a hint or the solution.\n",
    "# step_1.hint() \n",
    "# step_1.solution()"
   ]
  },
  {
   "cell_type": "markdown",
   "id": "3af745ff",
   "metadata": {
    "papermill": {
     "duration": 0.003578,
     "end_time": "2024-06-21T02:36:56.661329",
     "exception": false,
     "start_time": "2024-06-21T02:36:56.657751",
     "status": "completed"
    },
    "tags": []
   },
   "source": [
    "## Step 2: Fit Model Using All Data\n",
    "You know the best tree size. If you were going to deploy this model in practice, you would make it even more accurate by using all of the data and keeping that tree size.  That is, you don't need to hold out the validation data now that you've made all your modeling decisions."
   ]
  },
  {
   "cell_type": "code",
   "execution_count": 5,
   "id": "11740680",
   "metadata": {
    "execution": {
     "iopub.execute_input": "2024-06-21T02:36:56.670237Z",
     "iopub.status.busy": "2024-06-21T02:36:56.669848Z",
     "iopub.status.idle": "2024-06-21T02:36:56.686698Z",
     "shell.execute_reply": "2024-06-21T02:36:56.685747Z"
    },
    "papermill": {
     "duration": 0.023806,
     "end_time": "2024-06-21T02:36:56.688857",
     "exception": false,
     "start_time": "2024-06-21T02:36:56.665051",
     "status": "completed"
    },
    "tags": []
   },
   "outputs": [
    {
     "data": {
      "application/javascript": [
       "parent.postMessage({\"jupyterEvent\": \"custom.exercise_interaction\", \"data\": {\"outcomeType\": 1, \"valueTowardsCompletion\": 0.5, \"interactionType\": 1, \"questionType\": 2, \"questionId\": \"2_FitModelWithAllData\", \"learnToolsVersion\": \"0.3.4\", \"failureMessage\": \"\", \"exceptionClass\": \"\", \"trace\": \"\"}}, \"*\")"
      ],
      "text/plain": [
       "<IPython.core.display.Javascript object>"
      ]
     },
     "metadata": {},
     "output_type": "display_data"
    },
    {
     "data": {
      "text/markdown": [
       "<span style=\"color:#33cc33\">Correct</span>"
      ],
      "text/plain": [
       "Correct"
      ]
     },
     "metadata": {},
     "output_type": "display_data"
    }
   ],
   "source": [
    "# Fill in argument to make optimal size and uncomment\n",
    "final_model = DecisionTreeRegressor(max_leaf_nodes=best_tree_size, random_state=1)\n",
    "\n",
    "# fit the final model and uncomment the next two lines\n",
    "final_model.fit(X, y)\n",
    "\n",
    "# Check your answer\n",
    "step_2.check()"
   ]
  },
  {
   "cell_type": "code",
   "execution_count": 6,
   "id": "16f18a80",
   "metadata": {
    "execution": {
     "iopub.execute_input": "2024-06-21T02:36:56.699281Z",
     "iopub.status.busy": "2024-06-21T02:36:56.698440Z",
     "iopub.status.idle": "2024-06-21T02:36:56.702658Z",
     "shell.execute_reply": "2024-06-21T02:36:56.701730Z"
    },
    "papermill": {
     "duration": 0.011276,
     "end_time": "2024-06-21T02:36:56.704683",
     "exception": false,
     "start_time": "2024-06-21T02:36:56.693407",
     "status": "completed"
    },
    "tags": []
   },
   "outputs": [],
   "source": [
    "# step_2.hint()\n",
    "# step_2.solution()"
   ]
  },
  {
   "cell_type": "markdown",
   "id": "09dd3993",
   "metadata": {
    "papermill": {
     "duration": 0.003756,
     "end_time": "2024-06-21T02:36:56.712627",
     "exception": false,
     "start_time": "2024-06-21T02:36:56.708871",
     "status": "completed"
    },
    "tags": []
   },
   "source": [
    "You've tuned this model and improved your results. But we are still using Decision Tree models, which are not very sophisticated by modern machine learning standards. In the next step you will learn to use Random Forests to improve your models even more.\n",
    "\n",
    "# Keep Going\n",
    "\n",
    "You are ready for **[Random Forests](https://www.kaggle.com/dansbecker/random-forests).**\n"
   ]
  },
  {
   "cell_type": "markdown",
   "id": "f0aaea71",
   "metadata": {
    "papermill": {
     "duration": 0.003695,
     "end_time": "2024-06-21T02:36:56.720241",
     "exception": false,
     "start_time": "2024-06-21T02:36:56.716546",
     "status": "completed"
    },
    "tags": []
   },
   "source": [
    "---\n",
    "\n",
    "\n",
    "\n",
    "\n",
    "*Have questions or comments? Visit the [course discussion forum](https://www.kaggle.com/learn/intro-to-machine-learning/discussion) to chat with other learners.*"
   ]
  }
 ],
 "metadata": {
  "kaggle": {
   "accelerator": "none",
   "dataSources": [
    {
     "databundleVersionId": 111096,
     "sourceId": 10211,
     "sourceType": "competition"
    },
    {
     "datasetId": 11167,
     "sourceId": 15520,
     "sourceType": "datasetVersion"
    },
    {
     "datasetId": 2709,
     "sourceId": 38454,
     "sourceType": "datasetVersion"
    }
   ],
   "isGpuEnabled": false,
   "isInternetEnabled": false,
   "language": "python",
   "sourceType": "notebook"
  },
  "kernelspec": {
   "display_name": "Python 3",
   "language": "python",
   "name": "python3"
  },
  "language_info": {
   "codemirror_mode": {
    "name": "ipython",
    "version": 3
   },
   "file_extension": ".py",
   "mimetype": "text/x-python",
   "name": "python",
   "nbconvert_exporter": "python",
   "pygments_lexer": "ipython3",
   "version": "3.10.13"
  },
  "papermill": {
   "default_parameters": {},
   "duration": 5.821754,
   "end_time": "2024-06-21T02:36:57.244993",
   "environment_variables": {},
   "exception": null,
   "input_path": "__notebook__.ipynb",
   "output_path": "__notebook__.ipynb",
   "parameters": {},
   "start_time": "2024-06-21T02:36:51.423239",
   "version": "2.5.0"
  }
 },
 "nbformat": 4,
 "nbformat_minor": 5
}
