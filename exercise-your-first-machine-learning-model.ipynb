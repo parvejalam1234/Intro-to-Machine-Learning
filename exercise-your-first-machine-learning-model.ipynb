{
 "cells": [
  {
   "cell_type": "markdown",
   "id": "36a77379",
   "metadata": {
    "papermill": {
     "duration": 0.005723,
     "end_time": "2024-06-21T02:34:39.805741",
     "exception": false,
     "start_time": "2024-06-21T02:34:39.800018",
     "status": "completed"
    },
    "tags": []
   },
   "source": [
    "**This notebook is an exercise in the [Introduction to Machine Learning](https://www.kaggle.com/learn/intro-to-machine-learning) course.  You can reference the tutorial at [this link](https://www.kaggle.com/dansbecker/your-first-machine-learning-model).**\n",
    "\n",
    "---\n"
   ]
  },
  {
   "cell_type": "markdown",
   "id": "963584ed",
   "metadata": {
    "papermill": {
     "duration": 0.004698,
     "end_time": "2024-06-21T02:34:39.815721",
     "exception": false,
     "start_time": "2024-06-21T02:34:39.811023",
     "status": "completed"
    },
    "tags": []
   },
   "source": [
    "## Recap\n",
    "So far, you have loaded your data and reviewed it with the following code. Run this cell to set up your coding environment where the previous step left off."
   ]
  },
  {
   "cell_type": "code",
   "execution_count": 1,
   "id": "3e952043",
   "metadata": {
    "execution": {
     "iopub.execute_input": "2024-06-21T02:34:39.828076Z",
     "iopub.status.busy": "2024-06-21T02:34:39.827104Z",
     "iopub.status.idle": "2024-06-21T02:34:42.278943Z",
     "shell.execute_reply": "2024-06-21T02:34:42.277726Z"
    },
    "papermill": {
     "duration": 2.460689,
     "end_time": "2024-06-21T02:34:42.281413",
     "exception": false,
     "start_time": "2024-06-21T02:34:39.820724",
     "status": "completed"
    },
    "tags": []
   },
   "outputs": [
    {
     "name": "stdout",
     "output_type": "stream",
     "text": [
      "Setup Complete\n"
     ]
    }
   ],
   "source": [
    "# Code you have previously used to load data\n",
    "import pandas as pd\n",
    "\n",
    "# Path of the file to read\n",
    "iowa_file_path = '../input/home-data-for-ml-course/train.csv'\n",
    "\n",
    "home_data = pd.read_csv(iowa_file_path)\n",
    "\n",
    "# Set up code checking\n",
    "from learntools.core import binder\n",
    "binder.bind(globals())\n",
    "from learntools.machine_learning.ex3 import *\n",
    "\n",
    "print(\"Setup Complete\")"
   ]
  },
  {
   "cell_type": "markdown",
   "id": "a30cda5e",
   "metadata": {
    "papermill": {
     "duration": 0.004915,
     "end_time": "2024-06-21T02:34:42.291647",
     "exception": false,
     "start_time": "2024-06-21T02:34:42.286732",
     "status": "completed"
    },
    "tags": []
   },
   "source": [
    "# Exercises\n",
    "\n",
    "## Step 1: Specify Prediction Target\n",
    "Select the target variable, which corresponds to the sales price. Save this to a new variable called `y`. You'll need to print a list of the columns to find the name of the column you need.\n"
   ]
  },
  {
   "cell_type": "code",
   "execution_count": 2,
   "id": "a428462e",
   "metadata": {
    "execution": {
     "iopub.execute_input": "2024-06-21T02:34:42.303506Z",
     "iopub.status.busy": "2024-06-21T02:34:42.303005Z",
     "iopub.status.idle": "2024-06-21T02:34:42.313401Z",
     "shell.execute_reply": "2024-06-21T02:34:42.312270Z"
    },
    "papermill": {
     "duration": 0.018846,
     "end_time": "2024-06-21T02:34:42.315473",
     "exception": false,
     "start_time": "2024-06-21T02:34:42.296627",
     "status": "completed"
    },
    "tags": []
   },
   "outputs": [
    {
     "data": {
      "text/plain": [
       "Index(['Id', 'MSSubClass', 'MSZoning', 'LotFrontage', 'LotArea', 'Street',\n",
       "       'Alley', 'LotShape', 'LandContour', 'Utilities', 'LotConfig',\n",
       "       'LandSlope', 'Neighborhood', 'Condition1', 'Condition2', 'BldgType',\n",
       "       'HouseStyle', 'OverallQual', 'OverallCond', 'YearBuilt', 'YearRemodAdd',\n",
       "       'RoofStyle', 'RoofMatl', 'Exterior1st', 'Exterior2nd', 'MasVnrType',\n",
       "       'MasVnrArea', 'ExterQual', 'ExterCond', 'Foundation', 'BsmtQual',\n",
       "       'BsmtCond', 'BsmtExposure', 'BsmtFinType1', 'BsmtFinSF1',\n",
       "       'BsmtFinType2', 'BsmtFinSF2', 'BsmtUnfSF', 'TotalBsmtSF', 'Heating',\n",
       "       'HeatingQC', 'CentralAir', 'Electrical', '1stFlrSF', '2ndFlrSF',\n",
       "       'LowQualFinSF', 'GrLivArea', 'BsmtFullBath', 'BsmtHalfBath', 'FullBath',\n",
       "       'HalfBath', 'BedroomAbvGr', 'KitchenAbvGr', 'KitchenQual',\n",
       "       'TotRmsAbvGrd', 'Functional', 'Fireplaces', 'FireplaceQu', 'GarageType',\n",
       "       'GarageYrBlt', 'GarageFinish', 'GarageCars', 'GarageArea', 'GarageQual',\n",
       "       'GarageCond', 'PavedDrive', 'WoodDeckSF', 'OpenPorchSF',\n",
       "       'EnclosedPorch', '3SsnPorch', 'ScreenPorch', 'PoolArea', 'PoolQC',\n",
       "       'Fence', 'MiscFeature', 'MiscVal', 'MoSold', 'YrSold', 'SaleType',\n",
       "       'SaleCondition', 'SalePrice'],\n",
       "      dtype='object')"
      ]
     },
     "execution_count": 2,
     "metadata": {},
     "output_type": "execute_result"
    }
   ],
   "source": [
    "# print the list of columns in the dataset to find the name of the prediction target\n",
    "home_data.columns"
   ]
  },
  {
   "cell_type": "code",
   "execution_count": 3,
   "id": "f06b7ef4",
   "metadata": {
    "execution": {
     "iopub.execute_input": "2024-06-21T02:34:42.327634Z",
     "iopub.status.busy": "2024-06-21T02:34:42.327213Z",
     "iopub.status.idle": "2024-06-21T02:34:42.344652Z",
     "shell.execute_reply": "2024-06-21T02:34:42.343553Z"
    },
    "papermill": {
     "duration": 0.026179,
     "end_time": "2024-06-21T02:34:42.346956",
     "exception": false,
     "start_time": "2024-06-21T02:34:42.320777",
     "status": "completed"
    },
    "tags": []
   },
   "outputs": [
    {
     "data": {
      "application/javascript": [
       "parent.postMessage({\"jupyterEvent\": \"custom.exercise_interaction\", \"data\": {\"outcomeType\": 1, \"valueTowardsCompletion\": 0.25, \"interactionType\": 1, \"questionType\": 2, \"questionId\": \"1_SetTarget\", \"learnToolsVersion\": \"0.3.4\", \"failureMessage\": \"\", \"exceptionClass\": \"\", \"trace\": \"\"}}, \"*\")"
      ],
      "text/plain": [
       "<IPython.core.display.Javascript object>"
      ]
     },
     "metadata": {},
     "output_type": "display_data"
    },
    {
     "data": {
      "text/markdown": [
       "<span style=\"color:#33cc33\">Correct</span>"
      ],
      "text/plain": [
       "Correct"
      ]
     },
     "metadata": {},
     "output_type": "display_data"
    }
   ],
   "source": [
    "y = home_data.SalePrice\n",
    "\n",
    "# Check your answer\n",
    "step_1.check()"
   ]
  },
  {
   "cell_type": "code",
   "execution_count": 4,
   "id": "843844d5",
   "metadata": {
    "execution": {
     "iopub.execute_input": "2024-06-21T02:34:42.360273Z",
     "iopub.status.busy": "2024-06-21T02:34:42.359899Z",
     "iopub.status.idle": "2024-06-21T02:34:42.364849Z",
     "shell.execute_reply": "2024-06-21T02:34:42.363522Z"
    },
    "papermill": {
     "duration": 0.014507,
     "end_time": "2024-06-21T02:34:42.367197",
     "exception": false,
     "start_time": "2024-06-21T02:34:42.352690",
     "status": "completed"
    },
    "tags": []
   },
   "outputs": [],
   "source": [
    "# The lines below will show you a hint or the solution.\n",
    "# step_1.hint() \n",
    "# step_1.solution()"
   ]
  },
  {
   "cell_type": "markdown",
   "id": "05bde066",
   "metadata": {
    "papermill": {
     "duration": 0.005195,
     "end_time": "2024-06-21T02:34:42.378023",
     "exception": false,
     "start_time": "2024-06-21T02:34:42.372828",
     "status": "completed"
    },
    "tags": []
   },
   "source": [
    "## Step 2: Create X\n",
    "Now you will create a DataFrame called `X` holding the predictive features.\n",
    "\n",
    "Since you want only some columns from the original data, you'll first create a list with the names of the columns you want in `X`.\n",
    "\n",
    "You'll use just the following columns in the list (you can copy and paste the whole list to save some typing, though you'll still need to add quotes):\n",
    "  * LotArea\n",
    "  * YearBuilt\n",
    "  * 1stFlrSF\n",
    "  * 2ndFlrSF\n",
    "  * FullBath\n",
    "  * BedroomAbvGr\n",
    "  * TotRmsAbvGrd\n",
    "\n",
    "After you've created that list of features, use it to create the DataFrame that you'll use to fit the model."
   ]
  },
  {
   "cell_type": "code",
   "execution_count": 5,
   "id": "f646b670",
   "metadata": {
    "execution": {
     "iopub.execute_input": "2024-06-21T02:34:42.390732Z",
     "iopub.status.busy": "2024-06-21T02:34:42.390277Z",
     "iopub.status.idle": "2024-06-21T02:34:42.403901Z",
     "shell.execute_reply": "2024-06-21T02:34:42.402832Z"
    },
    "papermill": {
     "duration": 0.022474,
     "end_time": "2024-06-21T02:34:42.406117",
     "exception": false,
     "start_time": "2024-06-21T02:34:42.383643",
     "status": "completed"
    },
    "tags": []
   },
   "outputs": [
    {
     "data": {
      "application/javascript": [
       "parent.postMessage({\"jupyterEvent\": \"custom.exercise_interaction\", \"data\": {\"outcomeType\": 1, \"valueTowardsCompletion\": 0.25, \"interactionType\": 1, \"questionType\": 2, \"questionId\": \"2_SelectPredictionData\", \"learnToolsVersion\": \"0.3.4\", \"failureMessage\": \"\", \"exceptionClass\": \"\", \"trace\": \"\"}}, \"*\")"
      ],
      "text/plain": [
       "<IPython.core.display.Javascript object>"
      ]
     },
     "metadata": {},
     "output_type": "display_data"
    },
    {
     "data": {
      "text/markdown": [
       "<span style=\"color:#33cc33\">Correct</span>"
      ],
      "text/plain": [
       "Correct"
      ]
     },
     "metadata": {},
     "output_type": "display_data"
    }
   ],
   "source": [
    "# Create the list of features below\n",
    "feature_names = ['LotArea', 'YearBuilt', '1stFlrSF', '2ndFlrSF', 'FullBath', 'BedroomAbvGr', 'TotRmsAbvGrd']\n",
    "\n",
    "# Select data corresponding to features in feature_names\n",
    "X = home_data[feature_names]\n",
    "\n",
    "# Check your answer\n",
    "step_2.check()"
   ]
  },
  {
   "cell_type": "code",
   "execution_count": 6,
   "id": "9127f7a4",
   "metadata": {
    "execution": {
     "iopub.execute_input": "2024-06-21T02:34:42.419299Z",
     "iopub.status.busy": "2024-06-21T02:34:42.418942Z",
     "iopub.status.idle": "2024-06-21T02:34:42.423526Z",
     "shell.execute_reply": "2024-06-21T02:34:42.422288Z"
    },
    "papermill": {
     "duration": 0.013883,
     "end_time": "2024-06-21T02:34:42.425802",
     "exception": false,
     "start_time": "2024-06-21T02:34:42.411919",
     "status": "completed"
    },
    "tags": []
   },
   "outputs": [],
   "source": [
    "# step_2.hint()\n",
    "# step_2.solution()"
   ]
  },
  {
   "cell_type": "markdown",
   "id": "4c1da3e5",
   "metadata": {
    "papermill": {
     "duration": 0.005441,
     "end_time": "2024-06-21T02:34:42.437151",
     "exception": false,
     "start_time": "2024-06-21T02:34:42.431710",
     "status": "completed"
    },
    "tags": []
   },
   "source": [
    "## Review Data\n",
    "Before building a model, take a quick look at **X** to verify it looks sensible"
   ]
  },
  {
   "cell_type": "code",
   "execution_count": 7,
   "id": "77cbe73d",
   "metadata": {
    "execution": {
     "iopub.execute_input": "2024-06-21T02:34:42.450989Z",
     "iopub.status.busy": "2024-06-21T02:34:42.450145Z",
     "iopub.status.idle": "2024-06-21T02:34:42.561102Z",
     "shell.execute_reply": "2024-06-21T02:34:42.559996Z"
    },
    "papermill": {
     "duration": 0.121239,
     "end_time": "2024-06-21T02:34:42.564331",
     "exception": false,
     "start_time": "2024-06-21T02:34:42.443092",
     "status": "completed"
    },
    "tags": []
   },
   "outputs": [
    {
     "name": "stdout",
     "output_type": "stream",
     "text": [
      "             LotArea    YearBuilt     1stFlrSF     2ndFlrSF     FullBath  \\\n",
      "count    1460.000000  1460.000000  1460.000000  1460.000000  1460.000000   \n",
      "mean    10516.828082  1971.267808  1162.626712   346.992466     1.565068   \n",
      "std      9981.264932    30.202904   386.587738   436.528436     0.550916   \n",
      "min      1300.000000  1872.000000   334.000000     0.000000     0.000000   \n",
      "25%      7553.500000  1954.000000   882.000000     0.000000     1.000000   \n",
      "50%      9478.500000  1973.000000  1087.000000     0.000000     2.000000   \n",
      "75%     11601.500000  2000.000000  1391.250000   728.000000     2.000000   \n",
      "max    215245.000000  2010.000000  4692.000000  2065.000000     3.000000   \n",
      "\n",
      "       BedroomAbvGr  TotRmsAbvGrd  \n",
      "count   1460.000000   1460.000000  \n",
      "mean       2.866438      6.517808  \n",
      "std        0.815778      1.625393  \n",
      "min        0.000000      2.000000  \n",
      "25%        2.000000      5.000000  \n",
      "50%        3.000000      6.000000  \n",
      "75%        3.000000      7.000000  \n",
      "max        8.000000     14.000000  \n",
      "   LotArea  YearBuilt  1stFlrSF  2ndFlrSF  FullBath  BedroomAbvGr  \\\n",
      "0     8450       2003       856       854         2             3   \n",
      "1     9600       1976      1262         0         2             3   \n",
      "2    11250       2001       920       866         2             3   \n",
      "3     9550       1915       961       756         1             3   \n",
      "4    14260       2000      1145      1053         2             4   \n",
      "\n",
      "   TotRmsAbvGrd  \n",
      "0             8  \n",
      "1             6  \n",
      "2             6  \n",
      "3             7  \n",
      "4             9  \n"
     ]
    }
   ],
   "source": [
    "# Review data\n",
    "# print description or statistics from X\n",
    "print(X.describe())\n",
    "\n",
    "# print the top few lines\n",
    "print(X.head())"
   ]
  },
  {
   "cell_type": "markdown",
   "id": "7f5fa8b3",
   "metadata": {
    "papermill": {
     "duration": 0.005635,
     "end_time": "2024-06-21T02:34:42.575974",
     "exception": false,
     "start_time": "2024-06-21T02:34:42.570339",
     "status": "completed"
    },
    "tags": []
   },
   "source": [
    "## Step 3: Specify and Fit Model\n",
    "Create a `DecisionTreeRegressor` and save it iowa_model. Ensure you've done the relevant import from sklearn to run this command.\n",
    "\n",
    "Then fit the model you just created using the data in `X` and `y` that you saved above."
   ]
  },
  {
   "cell_type": "code",
   "execution_count": 8,
   "id": "ba9452dd",
   "metadata": {
    "execution": {
     "iopub.execute_input": "2024-06-21T02:34:42.590308Z",
     "iopub.status.busy": "2024-06-21T02:34:42.589949Z",
     "iopub.status.idle": "2024-06-21T02:34:42.610492Z",
     "shell.execute_reply": "2024-06-21T02:34:42.609376Z"
    },
    "papermill": {
     "duration": 0.030717,
     "end_time": "2024-06-21T02:34:42.612823",
     "exception": false,
     "start_time": "2024-06-21T02:34:42.582106",
     "status": "completed"
    },
    "tags": []
   },
   "outputs": [
    {
     "data": {
      "application/javascript": [
       "parent.postMessage({\"jupyterEvent\": \"custom.exercise_interaction\", \"data\": {\"outcomeType\": 1, \"valueTowardsCompletion\": 0.25, \"interactionType\": 1, \"questionType\": 2, \"questionId\": \"3_CreateModel\", \"learnToolsVersion\": \"0.3.4\", \"failureMessage\": \"\", \"exceptionClass\": \"\", \"trace\": \"\"}}, \"*\")"
      ],
      "text/plain": [
       "<IPython.core.display.Javascript object>"
      ]
     },
     "metadata": {},
     "output_type": "display_data"
    },
    {
     "data": {
      "text/markdown": [
       "<span style=\"color:#33cc33\">Correct</span>"
      ],
      "text/plain": [
       "Correct"
      ]
     },
     "metadata": {},
     "output_type": "display_data"
    }
   ],
   "source": [
    "from sklearn.tree import DecisionTreeRegressor\n",
    "#specify the model. \n",
    "#For model reproducibility, set a numeric value for random_state when specifying the model\n",
    "iowa_model = DecisionTreeRegressor(random_state=1)\n",
    "\n",
    "# Fit the model\n",
    "iowa_model.fit(X, y)\n",
    "\n",
    "# Check your answer\n",
    "step_3.check()"
   ]
  },
  {
   "cell_type": "code",
   "execution_count": 9,
   "id": "b712d4b4",
   "metadata": {
    "execution": {
     "iopub.execute_input": "2024-06-21T02:34:42.626473Z",
     "iopub.status.busy": "2024-06-21T02:34:42.626069Z",
     "iopub.status.idle": "2024-06-21T02:34:42.630567Z",
     "shell.execute_reply": "2024-06-21T02:34:42.629548Z"
    },
    "papermill": {
     "duration": 0.013886,
     "end_time": "2024-06-21T02:34:42.632734",
     "exception": false,
     "start_time": "2024-06-21T02:34:42.618848",
     "status": "completed"
    },
    "tags": []
   },
   "outputs": [],
   "source": [
    "# step_3.hint()\n",
    "# step_3.solution()"
   ]
  },
  {
   "cell_type": "markdown",
   "id": "a1f235e2",
   "metadata": {
    "papermill": {
     "duration": 0.005749,
     "end_time": "2024-06-21T02:34:42.644554",
     "exception": false,
     "start_time": "2024-06-21T02:34:42.638805",
     "status": "completed"
    },
    "tags": []
   },
   "source": [
    "## Step 4: Make Predictions\n",
    "Make predictions with the model's `predict` command using `X` as the data. Save the results to a variable called `predictions`."
   ]
  },
  {
   "cell_type": "code",
   "execution_count": 10,
   "id": "c0e4a867",
   "metadata": {
    "execution": {
     "iopub.execute_input": "2024-06-21T02:34:42.658610Z",
     "iopub.status.busy": "2024-06-21T02:34:42.658208Z",
     "iopub.status.idle": "2024-06-21T02:34:42.671061Z",
     "shell.execute_reply": "2024-06-21T02:34:42.670082Z"
    },
    "papermill": {
     "duration": 0.022395,
     "end_time": "2024-06-21T02:34:42.673277",
     "exception": false,
     "start_time": "2024-06-21T02:34:42.650882",
     "status": "completed"
    },
    "tags": []
   },
   "outputs": [
    {
     "name": "stdout",
     "output_type": "stream",
     "text": [
      "[208500. 181500. 223500. ... 266500. 142125. 147500.]\n"
     ]
    },
    {
     "data": {
      "application/javascript": [
       "parent.postMessage({\"jupyterEvent\": \"custom.exercise_interaction\", \"data\": {\"outcomeType\": 1, \"valueTowardsCompletion\": 0.25, \"interactionType\": 1, \"questionType\": 2, \"questionId\": \"4_MakePredictions\", \"learnToolsVersion\": \"0.3.4\", \"failureMessage\": \"\", \"exceptionClass\": \"\", \"trace\": \"\"}}, \"*\")"
      ],
      "text/plain": [
       "<IPython.core.display.Javascript object>"
      ]
     },
     "metadata": {},
     "output_type": "display_data"
    },
    {
     "data": {
      "text/markdown": [
       "<span style=\"color:#33cc33\">Correct</span>"
      ],
      "text/plain": [
       "Correct"
      ]
     },
     "metadata": {},
     "output_type": "display_data"
    }
   ],
   "source": [
    "predictions = iowa_model.predict(X)\n",
    "print(predictions)\n",
    "\n",
    "# Check your answer\n",
    "step_4.check()"
   ]
  },
  {
   "cell_type": "code",
   "execution_count": 11,
   "id": "20f7fe46",
   "metadata": {
    "collapsed": true,
    "execution": {
     "iopub.execute_input": "2024-06-21T02:34:42.688238Z",
     "iopub.status.busy": "2024-06-21T02:34:42.687260Z",
     "iopub.status.idle": "2024-06-21T02:34:42.692177Z",
     "shell.execute_reply": "2024-06-21T02:34:42.690995Z"
    },
    "jupyter": {
     "outputs_hidden": true
    },
    "papermill": {
     "duration": 0.014935,
     "end_time": "2024-06-21T02:34:42.694548",
     "exception": false,
     "start_time": "2024-06-21T02:34:42.679613",
     "status": "completed"
    },
    "tags": []
   },
   "outputs": [],
   "source": [
    "# step_4.hint()\n",
    "# step_4.solution()"
   ]
  },
  {
   "cell_type": "markdown",
   "id": "94c59333",
   "metadata": {
    "papermill": {
     "duration": 0.006272,
     "end_time": "2024-06-21T02:34:42.707493",
     "exception": false,
     "start_time": "2024-06-21T02:34:42.701221",
     "status": "completed"
    },
    "tags": []
   },
   "source": [
    "## Think About Your Results\n",
    "\n",
    "Use the `head` method to compare the top few predictions to the actual home values (in `y`) for those same homes. Anything surprising?\n"
   ]
  },
  {
   "cell_type": "code",
   "execution_count": 12,
   "id": "7a2ccb53",
   "metadata": {
    "execution": {
     "iopub.execute_input": "2024-06-21T02:34:42.722827Z",
     "iopub.status.busy": "2024-06-21T02:34:42.721870Z",
     "iopub.status.idle": "2024-06-21T02:34:42.726645Z",
     "shell.execute_reply": "2024-06-21T02:34:42.725567Z"
    },
    "papermill": {
     "duration": 0.014942,
     "end_time": "2024-06-21T02:34:42.728928",
     "exception": false,
     "start_time": "2024-06-21T02:34:42.713986",
     "status": "completed"
    },
    "tags": []
   },
   "outputs": [],
   "source": [
    "# You can write code in this cell\n"
   ]
  },
  {
   "cell_type": "markdown",
   "id": "2276d65b",
   "metadata": {
    "papermill": {
     "duration": 0.006403,
     "end_time": "2024-06-21T02:34:42.741992",
     "exception": false,
     "start_time": "2024-06-21T02:34:42.735589",
     "status": "completed"
    },
    "tags": []
   },
   "source": [
    "It's natural to ask how accurate the model's predictions will be and how you can improve that. That will be you're next step.\n",
    "\n",
    "# Keep Going\n",
    "\n",
    "You are ready for **[Model Validation](https://www.kaggle.com/dansbecker/model-validation).**\n"
   ]
  },
  {
   "cell_type": "markdown",
   "id": "f62afe7a",
   "metadata": {
    "papermill": {
     "duration": 0.006227,
     "end_time": "2024-06-21T02:34:42.754763",
     "exception": false,
     "start_time": "2024-06-21T02:34:42.748536",
     "status": "completed"
    },
    "tags": []
   },
   "source": [
    "---\n",
    "\n",
    "\n",
    "\n",
    "\n",
    "*Have questions or comments? Visit the [course discussion forum](https://www.kaggle.com/learn/intro-to-machine-learning/discussion) to chat with other learners.*"
   ]
  }
 ],
 "metadata": {
  "kaggle": {
   "accelerator": "none",
   "dataSources": [
    {
     "databundleVersionId": 111096,
     "sourceId": 10211,
     "sourceType": "competition"
    },
    {
     "datasetId": 11167,
     "sourceId": 15520,
     "sourceType": "datasetVersion"
    },
    {
     "datasetId": 2709,
     "sourceId": 38454,
     "sourceType": "datasetVersion"
    }
   ],
   "isGpuEnabled": false,
   "isInternetEnabled": false,
   "language": "python",
   "sourceType": "notebook"
  },
  "kernelspec": {
   "display_name": "Python 3",
   "language": "python",
   "name": "python3"
  },
  "language_info": {
   "codemirror_mode": {
    "name": "ipython",
    "version": 3
   },
   "file_extension": ".py",
   "mimetype": "text/x-python",
   "name": "python",
   "nbconvert_exporter": "python",
   "pygments_lexer": "ipython3",
   "version": "3.10.13"
  },
  "papermill": {
   "default_parameters": {},
   "duration": 6.388792,
   "end_time": "2024-06-21T02:34:43.382299",
   "environment_variables": {},
   "exception": null,
   "input_path": "__notebook__.ipynb",
   "output_path": "__notebook__.ipynb",
   "parameters": {},
   "start_time": "2024-06-21T02:34:36.993507",
   "version": "2.5.0"
  }
 },
 "nbformat": 4,
 "nbformat_minor": 5
}
